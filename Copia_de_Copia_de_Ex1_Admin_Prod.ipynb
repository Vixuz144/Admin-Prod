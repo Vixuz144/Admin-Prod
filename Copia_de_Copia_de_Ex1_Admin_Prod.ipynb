{
  "nbformat": 4,
  "nbformat_minor": 0,
  "metadata": {
    "colab": {
      "provenance": [],
      "authorship_tag": "ABX9TyONluq/U4MIQ653ILKY3AsL",
      "include_colab_link": true
    },
    "kernelspec": {
      "name": "python3",
      "display_name": "Python 3"
    },
    "language_info": {
      "name": "python"
    }
  },
  "cells": [
    {
      "cell_type": "markdown",
      "metadata": {
        "id": "view-in-github",
        "colab_type": "text"
      },
      "source": [
        "<a href=\"https://colab.research.google.com/github/Vixuz144/Admin-Prod/blob/main/Copia_de_Copia_de_Ex1_Admin_Prod.ipynb\" target=\"_parent\"><img src=\"https://colab.research.google.com/assets/colab-badge.svg\" alt=\"Open In Colab\"/></a>"
      ]
    },
    {
      "cell_type": "code",
      "execution_count": null,
      "metadata": {
        "id": "sC_8tYbvM7YD"
      },
      "outputs": [],
      "source": [
        "import numpy as np\n",
        "from statistics import mode"
      ]
    },
    {
      "cell_type": "markdown",
      "source": [
        "## Transporte"
      ],
      "metadata": {
        "id": "3aqcgQs4NgDy"
      }
    },
    {
      "cell_type": "code",
      "source": [
        "def MEN(cost, dem, prod):\n",
        "  d = list(dem)\n",
        "  p = list(prod)\n",
        "  s = sum(p)\n",
        "  t = np.zeros_like(cost)\n",
        "\n",
        "  i, j = 0, 0\n",
        "  while np.sum(t) < s:\n",
        "    if min(p[i], d[j]) == p[i]:\n",
        "      t[i,j] = p[i]\n",
        "      d[j] -= p[i]\n",
        "      p[i] = 0\n",
        "      i+=1\n",
        "    else:\n",
        "      t[i,j] = d[j]\n",
        "      p[i] -= d[j]\n",
        "      d[j] = 0\n",
        "      j+=1\n",
        "  c = np.sum(cost*t)\n",
        "  return t, c"
      ],
      "metadata": {
        "id": "-n0uXqBFN18F"
      },
      "execution_count": null,
      "outputs": []
    },
    {
      "cell_type": "code",
      "source": [
        "def MCM(cost, dem, prod):\n",
        "  C = np.array(tuple(cost))\n",
        "  d = list(dem)\n",
        "  p = list(prod)\n",
        "\n",
        "  s = sum(p)\n",
        "  t = np.zeros_like(cost)\n",
        "\n",
        "  while np.sum(t) < s:\n",
        "    i, j = np.unravel_index(np.argmin(C),np.shape(C))\n",
        "    if min(p[i], d[j]) == p[i]:\n",
        "      t[i,j] = p[i]\n",
        "      d[j] -= p[i]\n",
        "      p[i] = 0\n",
        "      C[i,j] = np.inf\n",
        "    else:\n",
        "      t[i,j] = d[j]\n",
        "      p[i] -= d[j]\n",
        "      d[j] = 0\n",
        "      C[i,j] = np.inf\n",
        "  c = np.sum(cost*t)\n",
        "  return t, c"
      ],
      "metadata": {
        "id": "Ab0HeC04N10N"
      },
      "execution_count": null,
      "outputs": []
    },
    {
      "cell_type": "code",
      "source": [
        "def MAV(cost, dem, prod):\n",
        "  C = np.array(tuple(cost))\n",
        "  d = list(dem)\n",
        "  p = list(prod)\n",
        "\n",
        "  s = sum(p)\n",
        "  t = np.zeros_like(cost)\n",
        "\n",
        "  m = len(prod)\n",
        "  n = len(dem)\n",
        "\n",
        "  while np.sum(t) < s:\n",
        "    # print(t)\n",
        "    # print(C)\n",
        "    dif0 = []\n",
        "    for k in range(m):\n",
        "      di = []\n",
        "      l = list(C[k, :])\n",
        "      di.append(l.pop(np.nanargmin(l)))\n",
        "      di.append(l.pop(np.nanargmin(l)))\n",
        "      if np.any(np.isinf(di)):\n",
        "        dif0.append(0)\n",
        "      else:\n",
        "        dif0.append(abs(di[0] - di[1]))\n",
        "\n",
        "    dif1 = []\n",
        "    for k in range(n):\n",
        "      di = []\n",
        "      l = list(C[:, k])\n",
        "      di.append(l.pop(np.nanargmin(l)))\n",
        "      di.append(l.pop(np.nanargmin(l)))\n",
        "      if np.any(np.isinf(di)):\n",
        "        dif1.append(0)\n",
        "      else:\n",
        "        dif1.append(abs(di[0] - di[1]))\n",
        "    # print(dif0, dif1)\n",
        "    mm = max(max(dif0), max(dif1))\n",
        "    if mm in dif0:\n",
        "      i = dif0.index(mm)\n",
        "      j = np.nanargmin(list(C[i,:]))\n",
        "    else:\n",
        "      j = dif1.index(mm)\n",
        "      i = np.nanargmin(list(C[:,j]))\n",
        "    # print(i,j)\n",
        "    # print(p,d)\n",
        "    if min(p[i], d[j]) == p[i]:\n",
        "      t[i,j] = p[i]\n",
        "      d[j] -= p[i]\n",
        "      p[i] = 0\n",
        "      C[i,:] = np.inf\n",
        "    else:\n",
        "      t[i,j] = d[j]\n",
        "      p[i] -= d[j]\n",
        "      d[j] = 0\n",
        "      C[i,j] = np.inf\n",
        "  c = np.sum(cost*t)\n",
        "  return t, c"
      ],
      "metadata": {
        "id": "lAwawov4N1xd"
      },
      "execution_count": null,
      "outputs": []
    },
    {
      "cell_type": "code",
      "source": [
        "def BARQUILLA_2(cost, dem, prod, trans):\n",
        "  C = np.array(tuple(cost))\n",
        "  d = list(dem)\n",
        "  p = list(prod)\n",
        "  t = np.array(tuple(trans))\n",
        "\n",
        "  while True:\n",
        "    li = []\n",
        "    lj = []\n",
        "    lc = []\n",
        "\n",
        "    zi, zj = np.nonzero(t == 0)\n",
        "    ni, nj = np.nonzero(t)\n",
        "    n = len(zi)\n",
        "    moda = mode(nj)\n",
        "\n",
        "    for k in range(n):\n",
        "      i = [zi[k], zi[k], int(not zi[k]), int(not zi[k])]\n",
        "      j = [zj[k], moda, moda, zj[k]]\n",
        "      c = sum(C[i,j][::2]) - sum(C[i,j][1::2])\n",
        "      if c < 0:\n",
        "        li.append(i)\n",
        "        lj.append(j)\n",
        "        lc.append(c)\n",
        "    if len(li) > 0:\n",
        "      k = np.argmin(lc)\n",
        "      T = t[li[k],lj[k]]\n",
        "      c = min(T[1::2])\n",
        "      T[1::2] -= c\n",
        "      T[::2] += c\n",
        "      t[li[k],lj[k]] = T\n",
        "    else:\n",
        "      break\n",
        "  c = np.sum(cost*t)\n",
        "  return t, c"
      ],
      "metadata": {
        "id": "wACqviQ_N1my"
      },
      "execution_count": null,
      "outputs": []
    },
    {
      "cell_type": "code",
      "source": [
        "base = np.array([[4, 3, 2, 2] , [2, 5, 4, 3], [3, 6, 5, 4], [5, 3, 4, 3]])\n",
        "que = base[:,0]\n",
        "pac = base[:,1]\n",
        "tol = base[:,2]\n",
        "cua = base[:,3]\n",
        "\n",
        "prod = [10, 15]\n",
        "dem = [9,7,5,4]\n",
        "\n",
        "print(que, pac, tol, cua)\n",
        "\n"
      ],
      "metadata": {
        "colab": {
          "base_uri": "https://localhost:8080/"
        },
        "id": "LjHe7Ay4NQ1W",
        "outputId": "aac5f388-e00c-4c2d-fc3e-76532fb73b4a"
      },
      "execution_count": null,
      "outputs": [
        {
          "output_type": "stream",
          "name": "stdout",
          "text": [
            "[4 2 3 5] [3 5 6 3] [2 4 5 4] [2 3 4 3]\n"
          ]
        }
      ]
    },
    {
      "cell_type": "code",
      "source": [
        "costos = np.append([que], [pac], 0)\n",
        "\n",
        "\n",
        "# print(costos)\n",
        "#costos = np.array([[0.84,1.03], [0.63,0.17], [1.17,1.09], [3.02,1.84], [3.40,2.61], [3.6,2.65]])\n",
        "# dem = [4,5,2,2,4,3]\n",
        "#prod = [15, 10]\n",
        "\n",
        "m,l = np.shape(costos)\n",
        "\n",
        "if m == len(dem):\n",
        "  costos = np.transpose(costos)\n",
        "\n",
        "if sum(dem) < sum(prod):\n",
        "  dem.insert(0, sum(prod) - sum(dem))\n",
        "  costos = np.append(np.zeros((l,1)), costos, 1)\n",
        "elif sum(prod) < sum(dem):\n",
        "  print('Error, no puede haber más demanda que producción')\n",
        "\n",
        "suma = sum(prod)\n",
        "print(f'{costos}\\n{dem}\\n{prod}')\n",
        "dem = tuple(dem)\n",
        "prod = tuple(prod)\n",
        "\n",
        "print(MEN(costos,dem,prod))\n",
        "# print(MCM(costos,dem,prod))\n",
        "# print(MAV(costos,dem,prod))\n",
        "\n",
        "print('\\n\\n')\n",
        "\n",
        "t, c = MEN(costos, dem, prod)\n",
        "tpa, cpa = BARQUILLA_2(costos, dem, prod, t)\n",
        "print(tpa)\n",
        "print(cpa)"
      ],
      "metadata": {
        "colab": {
          "base_uri": "https://localhost:8080/"
        },
        "id": "3vIAL-8ga8xh",
        "outputId": "4007e104-5dd3-4d4a-9750-cf229d1a19a3"
      },
      "execution_count": null,
      "outputs": [
        {
          "output_type": "stream",
          "name": "stdout",
          "text": [
            "[[4 2 3 5]\n",
            " [3 5 6 3]]\n",
            "[9, 7, 5, 4]\n",
            "[10, 15]\n",
            "(array([[9, 1, 0, 0],\n",
            "       [0, 6, 5, 4]]), 110)\n",
            "\n",
            "\n",
            "\n",
            "[[0 7 3 0]\n",
            " [9 0 2 4]]\n",
            "74\n"
          ]
        }
      ]
    },
    {
      "cell_type": "code",
      "source": [
        "costos = np.append([que], [tol], 0)\n",
        "\n",
        "\n",
        "# print(costos)\n",
        "#costos = np.array([[0.84,1.03], [0.63,0.17], [1.17,1.09], [3.02,1.84], [3.40,2.61], [3.6,2.65]])\n",
        "# dem = [4,5,2,2,4,3]\n",
        "#prod = [15, 10]\n",
        "\n",
        "m,l = np.shape(costos)\n",
        "\n",
        "if m == len(dem):\n",
        "  costos = np.transpose(costos)\n",
        "\n",
        "if sum(dem) < sum(prod):\n",
        "  dem.insert(0, sum(prod) - sum(dem))\n",
        "  costos = np.append(np.zeros((l,1)), costos, 1)\n",
        "elif sum(prod) < sum(dem):\n",
        "  print('Error, no puede haber más demanda que producción')\n",
        "\n",
        "suma = sum(prod)\n",
        "print(f'{costos}\\n{dem}\\n{prod}')\n",
        "dem = tuple(dem)\n",
        "prod = tuple(prod)\n",
        "\n",
        "print(MEN(costos,dem,prod))\n",
        "# print(MCM(costos,dem,prod))\n",
        "# print(MAV(costos,dem,prod))\n",
        "\n",
        "print('\\n\\n')\n",
        "\n",
        "t, c = MEN(costos, dem, prod)\n",
        "tto, cto = BARQUILLA_2(costos, dem, prod, t)\n",
        "print(tto)\n",
        "print(cto)"
      ],
      "metadata": {
        "colab": {
          "base_uri": "https://localhost:8080/"
        },
        "id": "Mx5aGh93a-cQ",
        "outputId": "e79891a5-e943-44a4-e25b-42bda9208aa8"
      },
      "execution_count": null,
      "outputs": [
        {
          "output_type": "stream",
          "name": "stdout",
          "text": [
            "[[4 2 3 5]\n",
            " [2 4 5 4]]\n",
            "(9, 7, 5, 4)\n",
            "(10, 15)\n",
            "(array([[9, 1, 0, 0],\n",
            "       [0, 6, 5, 4]]), 103)\n",
            "\n",
            "\n",
            "\n",
            "[[0 7 3 0]\n",
            " [9 0 2 4]]\n",
            "67\n"
          ]
        }
      ]
    },
    {
      "cell_type": "code",
      "source": [
        "costos = np.append([que], [cua], 0)\n",
        "\n",
        "\n",
        "# print(costos)\n",
        "#costos = np.array([[0.84,1.03], [0.63,0.17], [1.17,1.09], [3.02,1.84], [3.40,2.61], [3.6,2.65]])\n",
        "# dem = [4,5,2,2,4,3]\n",
        "#prod = [15, 10]\n",
        "\n",
        "m,l = np.shape(costos)\n",
        "\n",
        "if m == len(dem):\n",
        "  costos = np.transpose(costos)\n",
        "\n",
        "if sum(dem) < sum(prod):\n",
        "  dem.insert(0, sum(prod) - sum(dem))\n",
        "  costos = np.append(np.zeros((l,1)), costos, 1)\n",
        "elif sum(prod) < sum(dem):\n",
        "  print('Error, no puede haber más demanda que producción')\n",
        "\n",
        "suma = sum(prod)\n",
        "print(f'{costos}\\n{dem}\\n{prod}')\n",
        "dem = tuple(dem)\n",
        "prod = tuple(prod)\n",
        "\n",
        "print(MEN(costos,dem,prod))\n",
        "# print(MCM(costos,dem,prod))\n",
        "# print(MAV(costos,dem,prod))\n",
        "\n",
        "print('\\n\\n')\n",
        "\n",
        "t, c = MEN(costos, dem, prod)\n",
        "tcu, ccu = BARQUILLA_2(costos, dem, prod, t)\n",
        "print(tcu)\n",
        "print(ccu)"
      ],
      "metadata": {
        "colab": {
          "base_uri": "https://localhost:8080/"
        },
        "id": "Mo1sH138a-Q4",
        "outputId": "6d1e7630-89d9-4124-9ecf-364e5c59a481"
      },
      "execution_count": null,
      "outputs": [
        {
          "output_type": "stream",
          "name": "stdout",
          "text": [
            "[[4 2 3 5]\n",
            " [2 3 4 3]]\n",
            "(9, 7, 5, 4)\n",
            "(10, 15)\n",
            "(array([[9, 1, 0, 0],\n",
            "       [0, 6, 5, 4]]), 88)\n",
            "\n",
            "\n",
            "\n",
            "[[0 7 3 0]\n",
            " [9 0 2 4]]\n",
            "61\n"
          ]
        }
      ]
    },
    {
      "cell_type": "code",
      "source": [
        "print(f'los costos de pordución de pachuca son: {5} + {5.5*1.5} = {5 + 5.5*1.5} millones')\n",
        "print(f'Los resultados de el metodo de transporte en pachuca son costos = {cpa/10} millones\\n{tpa}\\n')\n",
        "ca = 5 + 5.5*1.5 + cpa/10\n",
        "\n",
        "print(f'los costos de pordución de toluca son: {5} + {4.5*1.5} = {5 + 4.5*1.5} millones')\n",
        "print(f'Los resultados de el metodo de transporte en toluca son costos = {cto/10} millones\\n{tto}\\n')\n",
        "cb = 5 + 4.5*1.5 + cto/10\n",
        "\n",
        "print(f'los costos de pordución de cuautal son: {5} + {6*1.5} = {5 + 6*1.5} millones')\n",
        "print(f'Los resultados de el metodo de transporte en cuautla son costos = {ccu/10} millones\\n{tcu}\\n')\n",
        "cc = 5 + 6*1.5 + ccu/10\n",
        "\n",
        "sol3 = f'Los costos totales de construir en Pachuca son {ca}\\nLos costos totales de construir en Toluca son {cb}\\nLos costos totales de construir en Cuautla son {cc}\\nPor lo tanto se decide construir en Toluca'\n",
        "print(sol3)"
      ],
      "metadata": {
        "colab": {
          "base_uri": "https://localhost:8080/"
        },
        "id": "848oYpGYa-Fw",
        "outputId": "7d239e20-bd02-4acd-b249-679a3b25c402"
      },
      "execution_count": null,
      "outputs": [
        {
          "output_type": "stream",
          "name": "stdout",
          "text": [
            "los costos de pordución de pachuca son: 5 + 8.25 = 13.25 millones\n",
            "Los resultados de el metodo de transporte en pachuca son costos = 7.4 millones\n",
            "[[0 7 3 0]\n",
            " [9 0 2 4]]\n",
            "\n",
            "los costos de pordución de toluca son: 5 + 6.75 = 11.75 millones\n",
            "Los resultados de el metodo de transporte en toluca son costos = 6.7 millones\n",
            "[[0 7 3 0]\n",
            " [9 0 2 4]]\n",
            "\n",
            "los costos de pordución de cuautal son: 5 + 9.0 = 14.0 millones\n",
            "Los resultados de el metodo de transporte en cuautla son costos = 6.1 millones\n",
            "[[0 7 3 0]\n",
            " [9 0 2 4]]\n",
            "\n",
            "Los costos totales de construir en Pachuca son 20.65\n",
            "Los costos totales de construir en Toluca son 18.45\n",
            "Los costos totales de construir en Cuautla son 20.1\n",
            "Por lo tanto se decide construir en Toluca\n"
          ]
        }
      ]
    },
    {
      "cell_type": "markdown",
      "source": [
        "##MAquinas Producción"
      ],
      "metadata": {
        "id": "62mK_nayiPET"
      }
    },
    {
      "cell_type": "code",
      "source": [
        "t = 60/(4 + 25)\n",
        "cap =1860\n",
        "j = t * 8\n",
        "nm100 = cap / j\n",
        "print(np.ceil(nm100))\n",
        "\n",
        "t90 = 0.9 * t\n",
        "j90 = t90 * 8\n",
        "nm90 = cap / j90\n",
        "print(nm90, np.ceil(nm90))\n",
        "\n",
        "sol1 = f'La cantidad de máqunas que se deben comprar para na tasa de utilización de 100% es {np.ceil(nm100)}\\nLa cantidad de máqunas que se deben comprar para na tasa de utilización de 90% es {np.ceil(nm90)}\\n'\n",
        "print(sol1)"
      ],
      "metadata": {
        "colab": {
          "base_uri": "https://localhost:8080/"
        },
        "id": "qDAo6qUOeyQm",
        "outputId": "d3d497f3-ab01-412b-e02f-a5cabb206442"
      },
      "execution_count": null,
      "outputs": [
        {
          "output_type": "stream",
          "name": "stdout",
          "text": [
            "113.0\n",
            "124.8611111111111 125.0\n",
            "La cantidad de máqunas que se deben comprar para na tasa de utilización de 100% es 113.0\n",
            "La cantidad de máqunas que se deben comprar para na tasa de utilización de 90% es 125.0\n",
            "\n"
          ]
        }
      ]
    },
    {
      "cell_type": "markdown",
      "source": [
        "##División de Salas"
      ],
      "metadata": {
        "id": "zMq0kGM9iW5j"
      }
    },
    {
      "cell_type": "code",
      "source": [
        "arreglo = 250000#\n",
        "asientos_actual = 600\n",
        "asientoa_nuevo = 200\n",
        "e_clientes = 100#\n",
        "\n",
        "dia = 2\n",
        "semana = dia*3\n",
        "año = 52 * semana #\n",
        "boleto = 300#\n",
        "\n",
        "costo_actual = e_clientes * año * boleto\n",
        "print(costo_actual)\n",
        "\n",
        "#Si se hace la división de salas\n",
        "\n",
        "costo_nuevo = -arreglo + e_clientes * 2 * año * boleto\n",
        "print(costo_nuevo)\n",
        "\n",
        "sol2 = f'Analizando los dos casos:\\nActual:\\n\\tBeneficios anuales = {costo_actual}\\n\\nAl dividir la sala\\n\\tBeneficios anuales = {costo_nuevo}\\n\\nPor lo tanto, se recomienda hacer la división de la sala.'\n",
        "print(sol2)\n"
      ],
      "metadata": {
        "colab": {
          "base_uri": "https://localhost:8080/"
        },
        "id": "Vb1tm_BziXCr",
        "outputId": "a9bfdbe3-e0ca-44a0-d096-8ba83e9a78ee"
      },
      "execution_count": null,
      "outputs": [
        {
          "output_type": "stream",
          "name": "stdout",
          "text": [
            "9360000\n",
            "18470000\n",
            "Analizando los dos casos:\n",
            "Actual:\n",
            "\tBeneficios anuales = 9360000\n",
            "\n",
            "Al dividir la sala\n",
            "\tBeneficios anuales = 18470000\n",
            "\n",
            "Por lo tanto, se recomienda hacer la división de la sala.\n"
          ]
        }
      ]
    },
    {
      "cell_type": "markdown",
      "source": [
        "##Resultados"
      ],
      "metadata": {
        "id": "fan-Ac96N0CV"
      }
    },
    {
      "cell_type": "code",
      "source": [
        "texto = open(\"Solución Examen 1.txt\", \"w\")\n",
        "\n",
        "texto.write('3.-Transporte\\n')\n",
        "\n",
        "texto.write(sol3)\n",
        "\n",
        "texto.write('\\n\\n\\n1.-Cantidad de máquinas de producción\\n')\n",
        "\n",
        "texto.write(sol1)\n",
        "\n",
        "texto.write('\\n\\n2.-Sala de cine\\n')\n",
        "\n",
        "texto.write(sol2)\n",
        "\n",
        "texto.close()\n",
        "\n",
        "# np.savetxt('datos.txt', ayuda,'%10.0f')"
      ],
      "metadata": {
        "id": "i9eWFUkgNQ--"
      },
      "execution_count": null,
      "outputs": []
    }
  ]
}