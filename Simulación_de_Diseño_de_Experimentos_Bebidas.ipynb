{
  "nbformat": 4,
  "nbformat_minor": 0,
  "metadata": {
    "colab": {
      "provenance": [],
      "authorship_tag": "ABX9TyP4CL/c/FKWYCZl/xvUki7D",
      "include_colab_link": true
    },
    "kernelspec": {
      "name": "python3",
      "display_name": "Python 3"
    },
    "language_info": {
      "name": "python"
    }
  },
  "cells": [
    {
      "cell_type": "markdown",
      "metadata": {
        "id": "view-in-github",
        "colab_type": "text"
      },
      "source": [
        "<a href=\"https://colab.research.google.com/github/Vixuz144/Admin-Prod/blob/main/Simulaci%C3%B3n_de_Dise%C3%B1o_de_Experimentos_Bebidas.ipynb\" target=\"_parent\"><img src=\"https://colab.research.google.com/assets/colab-badge.svg\" alt=\"Open In Colab\"/></a>"
      ]
    },
    {
      "cell_type": "code",
      "execution_count": 1,
      "metadata": {
        "id": "eb-drK7a9CMu"
      },
      "outputs": [],
      "source": [
        "from random import random, seed\n",
        "import numpy as np\n",
        "import pandas as pd"
      ]
    },
    {
      "cell_type": "code",
      "source": [
        "def sim(b):\n",
        "  n = len(b)-1\n",
        "  m = n**2-1\n",
        "  M = np.ones((m,n+1))\n",
        "  for i in range(n):\n",
        "    l = []\n",
        "    for j in range(m):\n",
        "      t = f'{j%2}'*2**i\n",
        "      for q in t:\n",
        "        l.append(int(bool(int(q))))\n",
        "    M[:,i+1] = l[:m]\n",
        "  M=2*np.array(M)-1\n",
        "  print(M)\n",
        "\n",
        "  l = []\n",
        "  for i in M:\n",
        "    print(i*b)\n",
        "    print(sum(i*b))\n",
        "    l.append(np.dot(i,b))\n",
        "\n",
        "  return l"
      ],
      "metadata": {
        "id": "md_vKYRZ9X1m"
      },
      "execution_count": 2,
      "outputs": []
    },
    {
      "cell_type": "code",
      "source": [
        "s = sim([17.6403125, -6.279375, -3.1931249999999975, -2.9825000000000017])\n",
        "print(s)\n",
        "t = pd.DataFrame(s)\n",
        "t.to_excel('Res_exp.xlsx')"
      ],
      "metadata": {
        "colab": {
          "base_uri": "https://localhost:8080/"
        },
        "id": "mrWkFHANFEII",
        "outputId": "1f221963-3c35-4a94-b3be-2834542484e0"
      },
      "execution_count": 5,
      "outputs": [
        {
          "output_type": "stream",
          "name": "stdout",
          "text": [
            "[[ 1. -1. -1. -1.]\n",
            " [ 1.  1. -1. -1.]\n",
            " [ 1. -1.  1. -1.]\n",
            " [ 1.  1.  1. -1.]\n",
            " [ 1. -1. -1.  1.]\n",
            " [ 1.  1. -1.  1.]\n",
            " [ 1. -1.  1.  1.]\n",
            " [ 1.  1.  1.  1.]]\n",
            "[17.6403125  6.279375   3.193125   2.9825   ]\n",
            "30.095312500000002\n",
            "[17.6403125 -6.279375   3.193125   2.9825   ]\n",
            "17.5365625\n",
            "[17.6403125  6.279375  -3.193125   2.9825   ]\n",
            "23.709062500000005\n",
            "[17.6403125 -6.279375  -3.193125   2.9825   ]\n",
            "11.150312500000005\n",
            "[17.6403125  6.279375   3.193125  -2.9825   ]\n",
            "24.1303125\n",
            "[17.6403125 -6.279375   3.193125  -2.9825   ]\n",
            "11.571562499999995\n",
            "[17.6403125  6.279375  -3.193125  -2.9825   ]\n",
            "17.744062500000002\n",
            "[17.6403125 -6.279375  -3.193125  -2.9825   ]\n",
            "5.185312500000002\n",
            "[30.095312500000002, 17.5365625, 23.709062500000005, 11.150312500000005, 24.1303125, 11.571562499999995, 17.744062500000002, 5.185312500000002]\n"
          ]
        }
      ]
    }
  ]
}