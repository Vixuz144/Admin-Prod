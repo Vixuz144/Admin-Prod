{
  "nbformat": 4,
  "nbformat_minor": 0,
  "metadata": {
    "colab": {
      "provenance": [],
      "authorship_tag": "ABX9TyOAUYYCBhc06OeufFYiXGYW",
      "include_colab_link": true
    },
    "kernelspec": {
      "name": "python3",
      "display_name": "Python 3"
    },
    "language_info": {
      "name": "python"
    }
  },
  "cells": [
    {
      "cell_type": "markdown",
      "metadata": {
        "id": "view-in-github",
        "colab_type": "text"
      },
      "source": [
        "<a href=\"https://colab.research.google.com/github/Vixuz144/Admin-Prod/blob/main/AP_Tarea_5.ipynb\" target=\"_parent\"><img src=\"https://colab.research.google.com/assets/colab-badge.svg\" alt=\"Open In Colab\"/></a>"
      ]
    },
    {
      "cell_type": "code",
      "source": [
        "import numpy as np\n",
        "import pandas as pd\n",
        "import matplotlib.pyplot as plt"
      ],
      "metadata": {
        "id": "dzKP05Z2FmUG"
      },
      "execution_count": 1,
      "outputs": []
    },
    {
      "cell_type": "markdown",
      "source": [
        "1.- Un fabricante necesita 40 000 circuitos impresos por año para la elaboración de cierto producto. El estima que el costo de orden es de \\$20 por\n",
        "pedido y que el costo de almacenamiento es del 20\\% del valor promedio\n",
        "del inventario. Si el costo unitario es de \\$2, calcule:\n",
        "\n",
        "a) la cantidad económica de orden\n",
        "\n",
        "b) el costo del almacenamiento, el costo de orden y el costo total\n",
        "\n",
        "c) el número de pedidos por año"
      ],
      "metadata": {
        "id": "iFTsQBZF9SzT"
      }
    },
    {
      "cell_type": "code",
      "execution_count": 2,
      "metadata": {
        "id": "TsQ-A3sY9MeL"
      },
      "outputs": [],
      "source": [
        "def lote1(Q, cu, co, cap):\n",
        "  # Q = 40000\n",
        "  # co = 20\n",
        "  # cap = 0.2\n",
        "  # cu = 2\n",
        "  q = np.sqrt(2 * Q * co/(cu *cap))\n",
        "\n",
        "  can_ped = Q/q\n",
        "\n",
        "  cost_a = q / 2  * cu * cap\n",
        "  cost_o = can_ped * co\n",
        "  cost_t = cost_o + cost_a\n",
        "  return q, can_ped, cost_a, cost_o, cost_t"
      ]
    },
    {
      "cell_type": "code",
      "source": [
        "Q = 40000\n",
        "co = 20\n",
        "cap = 0.2\n",
        "cu = 2\n",
        "q, cant, a, o, cost = lote1(Q, cu, co, cap)\n",
        "\n",
        "res1 = f\"a) Lote económico ={int(q)}\\nc) Cantidad de ordenes = {int(cant)}\\nb) Costo anual de almacenamiento = {int(a)} \\n   Costo anual de orden = {int(o)} \\n   Costo anual total = {int(cost)}\"\n",
        "\n",
        "print(res1)\n",
        "\n",
        "# print(\"Lote económico =\",int(q))\n",
        "# print(\"Cantidad de ordenes =\", int(cant))\n",
        "# print('Costo anual de almacenamiento = ',int(a))\n",
        "# print('Costo anual de orden = ',int(o))\n",
        "# print(\"Costo anual total =\",int(cost))"
      ],
      "metadata": {
        "colab": {
          "base_uri": "https://localhost:8080/"
        },
        "id": "bkombj2jfYBW",
        "outputId": "e9ba3fc2-f0b7-4eaa-9f78-904b1045ef65"
      },
      "execution_count": 3,
      "outputs": [
        {
          "output_type": "stream",
          "name": "stdout",
          "text": [
            "a) Lote económico =2000\n",
            "c) Cantidad de ordenes = 20\n",
            "b) Costo anual de almacenamiento = 400 \n",
            "   Costo anual de orden = 400 \n",
            "   Costo anual total = 800\n"
          ]
        }
      ]
    },
    {
      "cell_type": "markdown",
      "source": [],
      "metadata": {
        "id": "7wyQiuZnFFMC"
      }
    },
    {
      "cell_type": "markdown",
      "source": [
        "2.- Los siguientes artículos han sido registrados en el fichero (kárdex) de una\n",
        "compañía así como su costo anual de compra:\n",
        "\n",
        "| No. | Código | Costo anual |\n",
        "|-|-|-|\n",
        "|1 |MO7 |\\$ 32 000|\n",
        "|2 |N14 |\\$ 1 200|\n",
        "|3 |M23 |\\$ 37 000|\n",
        "|4 |O26 |\\$ 14 000|\n",
        "|5 |P36 |\\$ 108 000|\n",
        "|6 |M37 |\\$ 3 700|\n",
        "|7 |N45 |\\$ 28 000|\n",
        "|8 |P53 |\\$ 19 000|\n",
        "|9 |077 |\\$ 8 100|\n",
        "|10 |P 84 |\\$ 65 000|\n",
        "\n",
        "Se desea que usted:\n",
        "\n",
        "a) clasifique estos artículos según el método ABC;\n",
        "\n",
        "b) indique el valor monetario y el porcentaje de cada clase;\n",
        "\n",
        "c) calcule la cantidad económica por ordenar del artículo P36, cuyo costo unitario es de \\$20, sabiendo que el costo de orden es de \\$50 por pedido y el costo anual de almacenamiento es de \\$5 por unidad."
      ],
      "metadata": {
        "id": "7-WLsQ159Shu"
      }
    },
    {
      "cell_type": "code",
      "source": [
        "def met_ABC(data, a, b, c):\n",
        "  data.sort(reverse = True)\n",
        "  s = sum(data)\n",
        "  x = np.array(data)\n",
        "  p = x/s\n",
        "\n",
        "  pa, tipo = [], []\n",
        "  for i in range(len(p)):\n",
        "    pr = sum(p[:i+1])\n",
        "    pa.append(pr)\n",
        "    if pr <= a:\n",
        "      tipo.append('A')\n",
        "    elif pr <= b:\n",
        "      tipo.append('B')\n",
        "    else:\n",
        "      tipo.append('C')\n",
        "  return x, p, pa, tipo"
      ],
      "metadata": {
        "id": "evE8dlw-HMG9"
      },
      "execution_count": 4,
      "outputs": []
    },
    {
      "cell_type": "code",
      "source": [
        "def graf_ABC(data, prob_ac, tipo):\n",
        "  c = []\n",
        "  for i in range(len(tipo)):\n",
        "    if tipo[i] == 'A':\n",
        "      c.append('g')\n",
        "    elif tipo[i] == 'B':\n",
        "      c.append('orange')\n",
        "    else:\n",
        "      c.append('r')\n",
        "\n",
        "  d = np.array(data) / 1000\n",
        "  eje = d.astype(str)\n",
        "\n",
        "  fig, ax = plt.subplots()\n",
        "  ax.bar(eje, x, color = c)\n",
        "  ax2 = ax.twinx()\n",
        "  plt.ylim(0,1.05)\n",
        "  ax2.plot(eje, prob_ac, 'o-' ,color = 'c')\n",
        "\n",
        "  plt.title('Gráfica de Pareto Metodo ABC')\n",
        "  plt.xlabel('Costo, miles')\n",
        "  plt.savefig(\"Graf_ABC.png\", format = 'png', dpi = 144)\n",
        "  plt.show()"
      ],
      "metadata": {
        "id": "2hfARvZ_ddIY"
      },
      "execution_count": 5,
      "outputs": []
    },
    {
      "cell_type": "code",
      "source": [
        "def resumen_tipo(data, prob, tipo):\n",
        "  sa, sb, sc = 0, 0, 0\n",
        "  ma, mb, mc = 0, 0, 0\n",
        "  pa, pb, pc = 0, 0, 0\n",
        "  for i in range(len(tipo)):\n",
        "    if tipo[i] == 'A':\n",
        "      sa+=1\n",
        "      ma+=data[i]\n",
        "      pa+=prob[i]\n",
        "    elif tipo[i] == 'B':\n",
        "      sb+=1\n",
        "      mb+=data[i]\n",
        "      pb+=prob[i]\n",
        "    else:\n",
        "      sc+=1\n",
        "      mc+=data[i]\n",
        "      pc+=prob[i]\n",
        "\n",
        "  ls = [sa/(sa+sb+sc), sb/(sa+sb+sc), sc/(sa+sb+sc)]\n",
        "  lm = [ma, mb, mc]\n",
        "  lp = [pa, pb, pc]\n",
        "\n",
        "  r = [np.round(lm), np.round(ls,5), np.round(lp,5)]\n",
        "  r = pd.DataFrame(np.transpose(r), index = ['A','B','C'], columns = [\"Valor monetario\", \"Porcentaje\", \"Porcentaje monetario\"])\n",
        "  return r"
      ],
      "metadata": {
        "id": "_GsNKat_eU54"
      },
      "execution_count": 6,
      "outputs": []
    },
    {
      "cell_type": "code",
      "source": [
        "x = [32000, 1200, 37000, 14000, 108000, 3700, 28000, 19000, 8100, 65000]\n",
        "x, p, a, tipo = met_ABC(x, 0.80, 0.96, 1.00)\n",
        "\n",
        "t = [x,np.round(p, 5),np.round(a, 5),tipo]\n",
        "t = pd.DataFrame(np.transpose(t), columns = ['Costo', 'Porcentaje', 'Acumulado', 'Clasificacion'])\n",
        "\n",
        "print(t,'\\n')\n",
        "\n",
        "graf_ABC(x,a,tipo)\n",
        "\n",
        "r = resumen_tipo(x,p,tipo)\n",
        "res2 = 'a)\\n' + t.to_string() + '\\n\\nb)\\n' + r.to_string()\n",
        "print(r)"
      ],
      "metadata": {
        "colab": {
          "base_uri": "https://localhost:8080/",
          "height": 742
        },
        "id": "4iKuF3q9dM-q",
        "outputId": "1db360a0-d88b-46c7-8980-41bf00d2a61b"
      },
      "execution_count": 7,
      "outputs": [
        {
          "output_type": "stream",
          "name": "stdout",
          "text": [
            "    Costo Porcentaje Acumulado Clasificacion\n",
            "0  108000    0.34177   0.34177             A\n",
            "1   65000     0.2057   0.54747             A\n",
            "2   37000    0.11709   0.66456             A\n",
            "3   32000    0.10127   0.76582             A\n",
            "4   28000    0.08861   0.85443             B\n",
            "5   19000    0.06013   0.91456             B\n",
            "6   14000     0.0443   0.95886             B\n",
            "7    8100    0.02563   0.98449             C\n",
            "8    3700    0.01171    0.9962             C\n",
            "9    1200     0.0038       1.0             C \n",
            "\n"
          ]
        },
        {
          "output_type": "display_data",
          "data": {
            "text/plain": [
              "<Figure size 640x480 with 2 Axes>"
            ],
            "image/png": "[encoded data removed]"
          },
          "metadata": {}
        },
        {
          "output_type": "stream",
          "name": "stdout",
          "text": [
            "   Valor monetario  Porcentaje  Porcentaje monetario\n",
            "A         242000.0         0.4               0.76582\n",
            "B          61000.0         0.3               0.19304\n",
            "C          13000.0         0.3               0.04114\n"
          ]
        }
      ]
    },
    {
      "cell_type": "code",
      "source": [
        "def lote2(Q, co, ca):\n",
        "  q = np.sqrt(2 * Q * co/ca)\n",
        "\n",
        "  can_ped = Q/q\n",
        "\n",
        "  cost_a = q / 2 * ca\n",
        "  cost_o = can_ped * co\n",
        "  cost_t = cost_o + cost_a\n",
        "  return q, can_ped, cost_a, cost_o, cost_t"
      ],
      "metadata": {
        "id": "yMY_29n0gKZJ"
      },
      "execution_count": 8,
      "outputs": []
    },
    {
      "cell_type": "code",
      "source": [
        "cu = 20\n",
        "Q = x[0] / cu\n",
        "# print(Q)\n",
        "co = 50\n",
        "ca = 5\n",
        "q, c, a, o, ct = lote2(Q, co, ca)\n",
        "\n",
        "cosa = f\"c) Lote económico = {round(q, 2)}\\n   Cantidad de ordenes = {round(c)}\\n   Costo anual de almacenamiento = {round(a,2)}\\n   Costo anual de orden = {round(o,2)}\\n   Costo anual total = {round(ct,2)}\"\n",
        "res2 += \"\\n\\n\" + cosa\n",
        "print(cosa)"
      ],
      "metadata": {
        "colab": {
          "base_uri": "https://localhost:8080/"
        },
        "id": "SULAh_jSfDBm",
        "outputId": "1d1c65a9-cf1a-44dd-bc85-d99eb0953f4c"
      },
      "execution_count": 9,
      "outputs": [
        {
          "output_type": "stream",
          "name": "stdout",
          "text": [
            "c) Lote económico = 328.63\n",
            "   Cantidad de ordenes = 16\n",
            "   Costo anual de almacenamiento = 821.58\n",
            "   Costo anual de orden = 821.58\n",
            "   Costo anual total = 1643.17\n"
          ]
        }
      ]
    },
    {
      "cell_type": "markdown",
      "source": [
        "3.- Una compañía desea establecer una regla de administración de inventarios para un producto cuyo consumo anual se eleva a aproximadamente \\$250 000. Después de un estudio detallado de los principales registros contables, se ha colectado la siguiente información:\n",
        "\n",
        "\\begin{array}{lr}\n",
        "\\textrm{Consumo estimado para el año de 1981} & 105 000 \\textrm{unidades}\\\\\n",
        "\\textrm{Costo unitario promedio} & \\$2.50\\\\\n",
        "\\textrm{Alquiler del almacén} & \\$0.25/\\textrm{unidad}\\\\\n",
        "\\textrm{Costo de preparación de un pedido} & \\$21.50/\\textrm{pedido}\\\\\n",
        "\\textrm{Seguro de los inventarios} & 10\\% \\textrm{ de su valor}\\\\\n",
        "\\textrm{Costo promedio de recepción} & \\$20/\\textrm{pedido}\\\\\n",
        "\\textrm{Gastos postales} & \\$0.50/\\textrm{pedido}\\\\\n",
        "\\textrm{Pérdidas por deterioro} & 2\\%\\\\\n",
        "\\textrm{Falta de ganancia en intereses} & 10\\%\n",
        "\\end{array}\n",
        "\n",
        "Calcule:\n",
        "\n",
        "a) el costo de orden y almacenamiento;\n",
        "\n",
        "b) la cantidad económica por ordenar para el año de 1981;\n",
        "\n",
        "c) el costo de aprovisionamiento y de almacén;\n",
        "\n",
        "d) la cantidad por ordenar, considerando la hipótesis de los siguientes descuentos por cantidad:\n",
        "\n",
        "\\begin{array}{l c}\n",
        "1\\textrm{ a }9 999 & \\$2.50 \\textrm{ por unidad}\\\\\n",
        "10 000 \\textrm{ a } 19 999 & \\$2.40 \\textrm{ por unidad}\\\\\n",
        "20 000 \\textrm{ o más} & \\$2.35 \\textrm{ por unidad}\\\\\n",
        "\\end{array}"
      ],
      "metadata": {
        "id": "neJkPFvY_B1T"
      }
    },
    {
      "cell_type": "code",
      "source": [
        "consumo_anual = 250000\n",
        "\n",
        "Q = 105000\n",
        "\n",
        "# Costo por unidad\n",
        "cu = 2.5\n",
        "alquiler = 0.25\n",
        "\n",
        "#Costo por orden o pedido\n",
        "preparacion_pedido = 21.5\n",
        "recepcion = 0.20\n",
        "postales = 0.5\n",
        "\n",
        "#Porcentaje de valor de inventario\n",
        "seguro_inventarios = 0.10\n",
        "\n",
        "#Porcentajes\n",
        "deterioro = 0.02\n",
        "intereses = 0.10"
      ],
      "metadata": {
        "id": "wCUaXmAXmeHI"
      },
      "execution_count": 10,
      "outputs": []
    },
    {
      "cell_type": "code",
      "source": [
        "costo_almacenamiento_anual = consumo_anual*(intereses + seguro_inventarios + deterioro) + consumo_anual/cu * (alquiler)\n",
        "coa = preparacion_pedido + recepcion + postales\n",
        "costo_orden_anual = consumo_anual - costo_almacenamiento_anual\n",
        "\n",
        "res3 = f'a) Costo anual de almacenamiento = {costo_almacenamiento_anual}\\n   Costo anual de aprovisionamiento (orden, pedido) = {costo_orden_anual}\\n   Cantidad de ordenes, pedido = {np.ceil(costo_orden_anual/coa)}'\n",
        "print(res3)"
      ],
      "metadata": {
        "colab": {
          "base_uri": "https://localhost:8080/"
        },
        "id": "ebfteamAsIOj",
        "outputId": "6ca2ea3a-4c51-4c86-d9cf-d4d39c69dcc8"
      },
      "execution_count": 11,
      "outputs": [
        {
          "output_type": "stream",
          "name": "stdout",
          "text": [
            "a) Costo anual de almacenamiento = 80000.0\n",
            "   Costo anual de aprovisionamiento (orden, pedido) = 170000.0\n",
            "   Cantidad de ordenes, pedido = 7658.0\n"
          ]
        }
      ]
    },
    {
      "cell_type": "code",
      "source": [
        "Q = Q\n",
        "cu = cu\n",
        "ca = alquiler + cu*(seguro_inventarios + intereses + deterioro)\n",
        "co = preparacion_pedido + recepcion + postales\n",
        "\n",
        "cosa = f'Consumo estimado: {Q}\\nCosto unitario: {cu}\\nCosto de almacenamiento por unidad: {ca}\\nCosto por orden: {co}'\n",
        "res3 += '\\n\\n' + cosa\n",
        "\n",
        "q, cp, cal, cor, ct = lote2(Q, co, ca)\n",
        "\n",
        "cosa = f\"b) Lote económico: {round(q, 4)}\\n   Cantidad de pedidos al año: {np.ceil(cp)}\"\n",
        "res3 += '\\n\\n' + cosa\n",
        "print(cosa)\n",
        "\n",
        "cosa = f\"c) Costo de almacenamiento anual: {round(cal, 2)}\\n   Costo de orden anual: {round(cor, 2)}\\n   Costo anual total: {round(ct, 2)}\"\n",
        "res3 += '\\n\\n' + cosa\n",
        "print(cosa)"
      ],
      "metadata": {
        "colab": {
          "base_uri": "https://localhost:8080/"
        },
        "id": "q8WdxtmHqYHE",
        "outputId": "9866d111-54d9-4ed3-ac3e-325432a32436"
      },
      "execution_count": 12,
      "outputs": [
        {
          "output_type": "stream",
          "name": "stdout",
          "text": [
            "b) Lote económico: 2414.0215\n",
            "   Cantidad de pedidos al año: 44.0\n",
            "c) Costo de almacenamiento anual: 965.61\n",
            "   Costo de orden anual: 965.61\n",
            "   Costo anual total: 1931.22\n"
          ]
        }
      ]
    },
    {
      "cell_type": "code",
      "source": [
        "# 1 - 9,999           $2.50\n",
        "# 10,000 - 19,999     $2.40\n",
        "# 20,000 - más        #2.35\n",
        "\n",
        "qi = np.array([100, 1000, q, 5000, 10000, 15000, 19999, 20000, 25000, 30000])\n",
        "CC = qi * cu\n",
        "CO = Q/qi * co\n",
        "CA = qi/2 * ca\n",
        "CT = CC + CA + CO\n",
        "td = pd.DataFrame([CC, CO, CA, CT], index = ['Costo anual de compra', 'Costo de orden', 'Costo de almacenamiento', 'Costo total'], columns = qi)\n",
        "print(td)\n",
        "res3 += '\\n\\nc)\\n' + td.to_string()\n",
        "conclusion = \"Como se puede observar en la tabla anterior, conviene que la cantidad a ordenar esté en la primer categoría.\"\n",
        "print(conclusion)\n",
        "res3 += '\\n\\n'+conclusion"
      ],
      "metadata": {
        "colab": {
          "base_uri": "https://localhost:8080/"
        },
        "id": "c_bkMe1KAUrS",
        "outputId": "7faf1fc4-30d9-4937-f1f0-c4ce0bb5550b"
      },
      "execution_count": 13,
      "outputs": [
        {
          "output_type": "stream",
          "name": "stdout",
          "text": [
            "                         100.000000    1000.000000   2414.021541   \\\n",
            "Costo anual de compra           250.0        2500.0   6035.053852   \n",
            "Costo de orden                23310.0        2331.0    965.608616   \n",
            "Costo de almacenamiento          40.0         400.0    965.608616   \n",
            "Costo total                   23600.0        5231.0   7966.271085   \n",
            "\n",
            "                         5000.000000   10000.000000  15000.000000  \\\n",
            "Costo anual de compra         12500.0       25000.0       37500.0   \n",
            "Costo de orden                  466.2         233.1         155.4   \n",
            "Costo de almacenamiento        2000.0        4000.0        6000.0   \n",
            "Costo total                   14966.2       29233.1       43655.4   \n",
            "\n",
            "                         19999.000000  20000.000000  25000.000000  \\\n",
            "Costo anual de compra    49997.500000      50000.00      62500.00   \n",
            "Costo de orden             116.555828        116.55         93.24   \n",
            "Costo de almacenamiento   7999.600000       8000.00      10000.00   \n",
            "Costo total              58113.655828      58116.55      72593.24   \n",
            "\n",
            "                         30000.000000  \n",
            "Costo anual de compra         75000.0  \n",
            "Costo de orden                   77.7  \n",
            "Costo de almacenamiento       12000.0  \n",
            "Costo total                   87077.7  \n",
            "Como se puede observar en la tabla anterior, conviene que la cantidad a ordenar esté en la primer categoría.\n"
          ]
        }
      ]
    },
    {
      "cell_type": "markdown",
      "source": [
        "4.- Usted debe proporcionar a sus clientes, todos los lunes, un promedio de de 400 unidades de cierto producto. Usted obtiene dicho producto de un fabricante a \\$60 por unidad. El costo de orden y de transporte es de \\$150 por pedido. El costo de almacenamiento se estima en un 20\\% del costo de los productos almacenados. Hay 50 semanas de trabajo en el año. Usted desea elaborar una regla de administración de inventarios para determinar:\n",
        "\n",
        "a) la cantidad económica por ordenar;\n",
        "\n",
        "b) el costo total de aprovisionamiento y almacenamiento;\n",
        "\n",
        "c) el punto de reorden y el nivel máximo del inventario, teniendo en cuenta que usted desea mantener 5 unidades como inventario de seguridad y que la demora promedio de la entrega es de una semana."
      ],
      "metadata": {
        "id": "Q2qEM6OO_CNP"
      }
    },
    {
      "cell_type": "code",
      "source": [
        "def reorden(consumo_diario, demora, inventario_seguridad = 0):\n",
        "  return consumo_diario * demora + inventario_seguridad"
      ],
      "metadata": {
        "id": "beM19JBV3U9w"
      },
      "execution_count": 14,
      "outputs": []
    },
    {
      "cell_type": "code",
      "source": [
        "consumo = 400\n",
        "semanas = 50\n",
        "Q = consumo*semanas\n",
        "cu = 60\n",
        "co = 150\n",
        "cap = 0.2\n",
        "q, n, caa, coa, ct = lote1(Q, cu, co, cap)\n",
        "\n",
        "res4 = f\"   Lote económico: {round(q, 4)}\\n   Cantidad de pedidos al año: {np.ceil(n)}\\n   Costo de almacenamiento anual: {round(caa, 2)}\\n   Costo de orden anual: {round(coa, 2)}\\n   Costo anual total: {round(ct, 2)}\"\n",
        "print(res4)\n",
        "\n",
        "demora = 7\n",
        "r = reorden(400/7, 7, 5)\n",
        "\n",
        "cosa = f'Punto de reorden: {r}'\n",
        "print(cosa)\n",
        "res4 += '\\n\\n' + cosa\n",
        "\n",
        "m = 5 + np.ceil(q)\n",
        "cosa = f\"Nivel máximo de inventario : {m}\"\n",
        "print(cosa)\n",
        "res4 += '\\n\\n' + cosa"
      ],
      "metadata": {
        "colab": {
          "base_uri": "https://localhost:8080/"
        },
        "id": "PTaCtTsx1iLq",
        "outputId": "519688c7-655c-4aea-99a0-6ce6c3e07992"
      },
      "execution_count": 15,
      "outputs": [
        {
          "output_type": "stream",
          "name": "stdout",
          "text": [
            "   Lote económico: 707.1068\n",
            "   Cantidad de pedidos al año: 29.0\n",
            "   Costo de almacenamiento anual: 4242.64\n",
            "   Costo de orden anual: 4242.64\n",
            "   Costo anual total: 8485.28\n",
            "Punto de reorden: 405.0\n",
            "Nivel máximo de inventario : 713.0\n"
          ]
        }
      ]
    },
    {
      "cell_type": "markdown",
      "source": [
        "#resultados"
      ],
      "metadata": {
        "id": "DsAxgZa3HpM6"
      }
    },
    {
      "cell_type": "code",
      "source": [
        "texto = open(\"Resultados T5.txt\", \"w\")\n",
        "\n",
        "texto.write('1.- ')\n",
        "texto.write(res1)\n",
        "\n",
        "texto.write('\\n\\n\\n2.- ')\n",
        "texto.write(res2)\n",
        "\n",
        "texto.write('\\n\\n\\n3.-')\n",
        "texto.write(res3)\n",
        "\n",
        "texto.write('\\n\\n\\n4.-')\n",
        "texto.write(res4)\n",
        "\n",
        "texto.close()"
      ],
      "metadata": {
        "id": "92A7XYhPHrFj"
      },
      "execution_count": 16,
      "outputs": []
    }
  ]
}