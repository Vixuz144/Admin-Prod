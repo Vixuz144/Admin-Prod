{
  "nbformat": 4,
  "nbformat_minor": 0,
  "metadata": {
    "colab": {
      "provenance": [],
      "authorship_tag": "ABX9TyPAaeJj1FWnguA8ja7++egH",
      "include_colab_link": true
    },
    "kernelspec": {
      "name": "python3",
      "display_name": "Python 3"
    },
    "language_info": {
      "name": "python"
    }
  },
  "cells": [
    {
      "cell_type": "markdown",
      "metadata": {
        "id": "view-in-github",
        "colab_type": "text"
      },
      "source": [
        "<a href=\"https://colab.research.google.com/github/Vixuz144/Admin-Prod/blob/main/Simulador_de_Experimentos.ipynb\" target=\"_parent\"><img src=\"https://colab.research.google.com/assets/colab-badge.svg\" alt=\"Open In Colab\"/></a>"
      ]
    },
    {
      "cell_type": "code",
      "execution_count": 175,
      "metadata": {
        "id": "koDinIkzUqwr"
      },
      "outputs": [],
      "source": [
        "from random import random, seed, gauss\n",
        "import numpy as np\n",
        "import pandas as pd"
      ]
    },
    {
      "cell_type": "code",
      "source": [
        "def modelo(x, y, nr, a, b, s, dec):\n",
        "  seed(s)\n",
        "  n = len(x)\n",
        "  e = 2**n\n",
        "  m1 = np.zeros((e,n))\n",
        "  for i in range(n):\n",
        "    l = []\n",
        "    for j in range(e):\n",
        "      t = f'{j%2}'*2**i\n",
        "      for q in t:\n",
        "        l.append(int( bool(int(q))))\n",
        "    m1[:,i] = l[:e]\n",
        "  print(m1)\n",
        "\n",
        "  rep = []\n",
        "  for _ in range(nr):\n",
        "    l = []\n",
        "    for i in m1:\n",
        "      r = []\n",
        "      for k in range(n):\n",
        "        r.append(gauss(x[k],y[k]))\n",
        "      l.append(a+(b-a)*random()+np.dot(r,i))\n",
        "    rep.append(np.round(l,dec))\n",
        "  return np.transpose(rep)"
      ],
      "metadata": {
        "id": "y2J9ApPfU1nE"
      },
      "execution_count": 176,
      "outputs": []
    },
    {
      "cell_type": "code",
      "source": [
        "m = [-10,18,14,20]\n",
        "s = [0.3,1,0.5,2]\n",
        "l = modelo(m, s, 4, a=10, b=12, s=314, dec=2)\n",
        "print(l)"
      ],
      "metadata": {
        "colab": {
          "base_uri": "https://localhost:8080/"
        },
        "id": "X01SZuCLfhZw",
        "outputId": "24af38e1-08af-452c-9df5-9ac6aee1ec6f"
      },
      "execution_count": 179,
      "outputs": [
        {
          "output_type": "stream",
          "name": "stdout",
          "text": [
            "[[0. 0. 0. 0.]\n",
            " [1. 0. 0. 0.]\n",
            " [0. 1. 0. 0.]\n",
            " [1. 1. 0. 0.]\n",
            " [0. 0. 1. 0.]\n",
            " [1. 0. 1. 0.]\n",
            " [0. 1. 1. 0.]\n",
            " [1. 1. 1. 0.]\n",
            " [0. 0. 0. 1.]\n",
            " [1. 0. 0. 1.]\n",
            " [0. 1. 0. 1.]\n",
            " [1. 1. 0. 1.]\n",
            " [0. 0. 1. 1.]\n",
            " [1. 0. 1. 1.]\n",
            " [0. 1. 1. 1.]\n",
            " [1. 1. 1. 1.]]\n",
            "[[10.47 10.41 11.76 11.38]\n",
            " [ 0.46  1.63  1.75  1.44]\n",
            " [28.98 28.44 27.75 30.68]\n",
            " [20.1  20.44 18.42 19.29]\n",
            " [24.28 24.74 24.56 24.91]\n",
            " [14.48 15.89 14.58 15.68]\n",
            " [42.87 39.25 43.1  40.63]\n",
            " [31.6  29.1  34.27 33.38]\n",
            " [33.9  32.17 29.51 32.36]\n",
            " [21.33 19.6  18.49 23.34]\n",
            " [48.64 50.4  52.77 54.35]\n",
            " [39.94 37.66 37.08 40.69]\n",
            " [46.07 45.94 45.81 43.75]\n",
            " [40.08 32.14 33.9  37.02]\n",
            " [65.12 64.45 56.63 66.79]\n",
            " [54.58 55.35 55.99 52.49]]\n"
          ]
        }
      ]
    },
    {
      "cell_type": "code",
      "source": [
        "t = pd.DataFrame(l)\n",
        "print(t)\n",
        "t.to_excel('Primer_exp.xlsx')"
      ],
      "metadata": {
        "colab": {
          "base_uri": "https://localhost:8080/"
        },
        "id": "-UfZjKBdgpIe",
        "outputId": "17287dc3-3f51-40f7-de04-88b0fdff61c2"
      },
      "execution_count": 180,
      "outputs": [
        {
          "output_type": "stream",
          "name": "stdout",
          "text": [
            "        0      1      2      3\n",
            "0   10.47  10.41  11.76  11.38\n",
            "1    0.46   1.63   1.75   1.44\n",
            "2   28.98  28.44  27.75  30.68\n",
            "3   20.10  20.44  18.42  19.29\n",
            "4   24.28  24.74  24.56  24.91\n",
            "5   14.48  15.89  14.58  15.68\n",
            "6   42.87  39.25  43.10  40.63\n",
            "7   31.60  29.10  34.27  33.38\n",
            "8   33.90  32.17  29.51  32.36\n",
            "9   21.33  19.60  18.49  23.34\n",
            "10  48.64  50.40  52.77  54.35\n",
            "11  39.94  37.66  37.08  40.69\n",
            "12  46.07  45.94  45.81  43.75\n",
            "13  40.08  32.14  33.90  37.02\n",
            "14  65.12  64.45  56.63  66.79\n",
            "15  54.58  55.35  55.99  52.49\n"
          ]
        }
      ]
    }
  ]
}