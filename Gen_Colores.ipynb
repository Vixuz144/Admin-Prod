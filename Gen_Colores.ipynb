{
  "nbformat": 4,
  "nbformat_minor": 0,
  "metadata": {
    "colab": {
      "provenance": [],
      "authorship_tag": "ABX9TyN3ppNXMaj5tD9L529V44Wc",
      "include_colab_link": true
    },
    "kernelspec": {
      "name": "python3",
      "display_name": "Python 3"
    },
    "language_info": {
      "name": "python"
    }
  },
  "cells": [
    {
      "cell_type": "markdown",
      "metadata": {
        "id": "view-in-github",
        "colab_type": "text"
      },
      "source": [
        "<a href=\"https://colab.research.google.com/github/Vixuz144/Admin-Prod/blob/main/Gen_Colores.ipynb\" target=\"_parent\"><img src=\"https://colab.research.google.com/assets/colab-badge.svg\" alt=\"Open In Colab\"/></a>"
      ]
    },
    {
      "cell_type": "code",
      "source": [
        "from random import gauss, seed\n",
        "import numpy as np\n",
        "import pandas as pd\n",
        "import matplotlib.pyplot as plt"
      ],
      "metadata": {
        "id": "qR5nXgFMBSQ1"
      },
      "execution_count": 97,
      "outputs": []
    },
    {
      "cell_type": "code",
      "execution_count": 10,
      "metadata": {
        "id": "VeIfJ-FaBGQ4"
      },
      "outputs": [],
      "source": [
        "def gen(x, dec, div, n):\n",
        "  s = np.std(x,ddof=1)/div\n",
        "  y = []\n",
        "  for i in x:\n",
        "    l=[]\n",
        "    for _ in range(n):\n",
        "      l.append(gauss(i,s)/n)\n",
        "    y.append(np.round(l,dec))\n",
        "  return np.transpose(y)"
      ]
    },
    {
      "cell_type": "code",
      "source": [
        "m = ('Enero', 'Febrero',\t'Marzo',\t'Abril',\t'Mayo',\t'Junio',\t'Julio',\t'Agosto',\t'Septiembre',\t'Octubre',\t'Noviembre',\t'Diciembre', 'Enero', 'Febrero',\t'Marzo',\t'Abril',\t'Mayo',\t'Junio',\t'Julio',\t'Agosto',\t'Septiembre',\t'Octubre',\t'Noviembre',\t'Diciembre')"
      ],
      "metadata": {
        "id": "gKHcxmH4BXY2"
      },
      "execution_count": 43,
      "outputs": []
    },
    {
      "cell_type": "code",
      "source": [
        "def mes_a_trimestre(x):\n",
        "  n = len(x)\n",
        "  l = []\n",
        "  for i in range(0,n,3):\n",
        "    y = x[i] + x[i+1] + x[i+2]\n",
        "    l.append(y)\n",
        "  return l"
      ],
      "metadata": {
        "id": "7v3KNOh7CSV2"
      },
      "execution_count": 7,
      "outputs": []
    },
    {
      "cell_type": "code",
      "source": [
        "L = [27285,\t23012,\t19922,\t21827,\t25456,\t28550,\t18678,\t21316,\t26081,\t25198,\t22582,\t30038,\t27512,\t25034,\t27947,\t19389,\t29445,\t23729,\t28078,\t39942,\t19515,\t26038,\t33726,\t20003]\n",
        "LT = mes_a_trimestre(L)\n",
        "print(L)\n",
        "LE = gen(L,0,5,4)\n",
        "print(LE)\n",
        "print(np.sum(LE,0))"
      ],
      "metadata": {
        "colab": {
          "base_uri": "https://localhost:8080/"
        },
        "id": "IBUcBV_9CuqX",
        "outputId": "059a86b3-edbc-466c-b431-b3fc76ba2154"
      },
      "execution_count": 42,
      "outputs": [
        {
          "output_type": "stream",
          "name": "stdout",
          "text": [
            "[27285, 23012, 19922, 21827, 25456, 28550, 18678, 21316, 26081, 25198, 22582, 30038, 27512, 25034, 27947, 19389, 29445, 23729, 28078, 39942, 19515, 26038, 33726, 20003]\n",
            "[[ 6521.  5844.  4720.  5715.  5827.  7084.  4541.  5230.  6524.  6722.\n",
            "   5300.  7429.  6785.  6263.  6760.  4983.  7518.  5995.  7211. 10231.\n",
            "   4568.  6604.  8971.  4429.]\n",
            " [ 6682.  6368.  5072.  5672.  6423.  6825.  4521.  5152.  6313.  6317.\n",
            "   5441.  7199.  6630.  6260.  7073.  4626.  7262.  5948.  6684.  9717.\n",
            "   4708.  6312.  8276.  5271.]\n",
            " [ 6692.  5634.  5063.  5737.  6369.  7714.  4501.  5327.  6367.  6080.\n",
            "   5472.  7728.  7078.  5744.  6649.  4949.  7914.  6082.  6905.  9924.\n",
            "   4637.  6354.  8195.  5240.]\n",
            " [ 6786.  6274.  4794.  5380.  6018.  7548.  4510.  5109.  6167.  6175.\n",
            "   5270.  7185.  6871.  6171.  6841.  5010.  7112.  5808.  7093.  9838.\n",
            "   4774.  6471.  8612.  4915.]]\n",
            "[26681. 24120. 19649. 22504. 24637. 29171. 18073. 20818. 25371. 25294.\n",
            " 21483. 29541. 27364. 24438. 27323. 19568. 29806. 23833. 27893. 39710.\n",
            " 18687. 25741. 34054. 19855.]\n"
          ]
        }
      ]
    },
    {
      "cell_type": "code",
      "source": [
        "t = pd.DataFrame(LE,columns=m)\n",
        "print(t)\n",
        "t.to_excel('Alimentos.xlsx')"
      ],
      "metadata": {
        "colab": {
          "base_uri": "https://localhost:8080/"
        },
        "id": "poNl7hhmFKEs",
        "outputId": "f64e9153-845d-478a-8172-139eecc20587"
      },
      "execution_count": 45,
      "outputs": [
        {
          "output_type": "stream",
          "name": "stdout",
          "text": [
            "    Enero  Febrero   Marzo   Abril    Mayo   Junio   Julio  Agosto  \\\n",
            "0  6521.0   5844.0  4720.0  5715.0  5827.0  7084.0  4541.0  5230.0   \n",
            "1  6682.0   6368.0  5072.0  5672.0  6423.0  6825.0  4521.0  5152.0   \n",
            "2  6692.0   5634.0  5063.0  5737.0  6369.0  7714.0  4501.0  5327.0   \n",
            "3  6786.0   6274.0  4794.0  5380.0  6018.0  7548.0  4510.0  5109.0   \n",
            "\n",
            "   Septiembre  Octubre  ...   Marzo   Abril    Mayo   Junio   Julio   Agosto  \\\n",
            "0      6524.0   6722.0  ...  6760.0  4983.0  7518.0  5995.0  7211.0  10231.0   \n",
            "1      6313.0   6317.0  ...  7073.0  4626.0  7262.0  5948.0  6684.0   9717.0   \n",
            "2      6367.0   6080.0  ...  6649.0  4949.0  7914.0  6082.0  6905.0   9924.0   \n",
            "3      6167.0   6175.0  ...  6841.0  5010.0  7112.0  5808.0  7093.0   9838.0   \n",
            "\n",
            "   Septiembre  Octubre  Noviembre  Diciembre  \n",
            "0      4568.0   6604.0     8971.0     4429.0  \n",
            "1      4708.0   6312.0     8276.0     5271.0  \n",
            "2      4637.0   6354.0     8195.0     5240.0  \n",
            "3      4774.0   6471.0     8612.0     4915.0  \n",
            "\n",
            "[4 rows x 24 columns]\n"
          ]
        }
      ]
    },
    {
      "cell_type": "code",
      "source": [
        "B = [1588,\t1560,\t1588,\t1669,\t1485,\t1911,\t1726,\t1821,\t1773,\t1901,\t1768,\t1945,\t1478,\t1874,\t2616,\t1802,\t2197,\t2087,\t1834,\t2096,\t1757,\t1932,\t1548,\t1819]\n",
        "BT = mes_a_trimestre(B)\n",
        "print(B)\n",
        "BE = gen(B,0,12,4)\n",
        "print(BE)\n",
        "print(np.sum(BE,0))"
      ],
      "metadata": {
        "colab": {
          "base_uri": "https://localhost:8080/"
        },
        "id": "WG1CtFGTDvDW",
        "outputId": "3176e6d5-754f-4a61-93a0-6522229f5119"
      },
      "execution_count": 38,
      "outputs": [
        {
          "output_type": "stream",
          "name": "stdout",
          "text": [
            "[1588, 1560, 1588, 1669, 1485, 1911, 1726, 1821, 1773, 1901, 1768, 1945, 1478, 1874, 2616, 1802, 2197, 2087, 1834, 2096, 1757, 1932, 1548, 1819]\n",
            "[[397. 387. 392. 427. 382. 487. 429. 458. 446. 473. 442. 488. 368. 469.\n",
            "  649. 451. 539. 517. 447. 525. 432. 473. 384. 451.]\n",
            " [396. 386. 401. 421. 371. 474. 442. 460. 443. 474. 432. 495. 371. 466.\n",
            "  650. 458. 548. 514. 464. 533. 446. 484. 374. 461.]\n",
            " [390. 392. 393. 419. 374. 472. 438. 449. 445. 468. 444. 479. 370. 474.\n",
            "  653. 447. 551. 517. 445. 535. 434. 484. 378. 454.]\n",
            " [398. 396. 399. 416. 367. 486. 435. 442. 450. 475. 436. 481. 371. 477.\n",
            "  659. 458. 545. 529. 458. 525. 441. 481. 386. 452.]]\n",
            "[1581. 1561. 1585. 1683. 1494. 1919. 1744. 1809. 1784. 1890. 1754. 1943.\n",
            " 1480. 1886. 2611. 1814. 2183. 2077. 1814. 2118. 1753. 1922. 1522. 1818.]\n"
          ]
        }
      ]
    },
    {
      "cell_type": "code",
      "source": [
        "t = pd.DataFrame(BE,columns=m)\n",
        "print(t)\n",
        "t.to_excel('Liquidos.xlsx')"
      ],
      "metadata": {
        "colab": {
          "base_uri": "https://localhost:8080/"
        },
        "id": "0lAmAgfsFoe9",
        "outputId": "fef5eb32-b4b3-4933-ca9f-c6e9562fb96d"
      },
      "execution_count": 47,
      "outputs": [
        {
          "output_type": "stream",
          "name": "stdout",
          "text": [
            "   Enero  Febrero  Marzo  Abril   Mayo  Junio  Julio  Agosto  Septiembre  \\\n",
            "0  397.0    387.0  392.0  427.0  382.0  487.0  429.0   458.0       446.0   \n",
            "1  396.0    386.0  401.0  421.0  371.0  474.0  442.0   460.0       443.0   \n",
            "2  390.0    392.0  393.0  419.0  374.0  472.0  438.0   449.0       445.0   \n",
            "3  398.0    396.0  399.0  416.0  367.0  486.0  435.0   442.0       450.0   \n",
            "\n",
            "   Octubre  ...  Marzo  Abril   Mayo  Junio  Julio  Agosto  Septiembre  \\\n",
            "0    473.0  ...  649.0  451.0  539.0  517.0  447.0   525.0       432.0   \n",
            "1    474.0  ...  650.0  458.0  548.0  514.0  464.0   533.0       446.0   \n",
            "2    468.0  ...  653.0  447.0  551.0  517.0  445.0   535.0       434.0   \n",
            "3    475.0  ...  659.0  458.0  545.0  529.0  458.0   525.0       441.0   \n",
            "\n",
            "   Octubre  Noviembre  Diciembre  \n",
            "0    473.0      384.0      451.0  \n",
            "1    484.0      374.0      461.0  \n",
            "2    484.0      378.0      454.0  \n",
            "3    481.0      386.0      452.0  \n",
            "\n",
            "[4 rows x 24 columns]\n"
          ]
        }
      ]
    },
    {
      "cell_type": "markdown",
      "source": [
        "##Generador para P\n"
      ],
      "metadata": {
        "id": "-PP1pF40Ty5Z"
      }
    },
    {
      "cell_type": "code",
      "source": [
        "def gen_p(X, p, d, div,s):\n",
        "  seed(s)\n",
        "  x = np.round(np.array(X[1])/div)\n",
        "  y = []\n",
        "  c = 0\n",
        "  for i in x:\n",
        "    y.append(round(i*gauss(c+p,d)))\n",
        "    c+=0.005\n",
        "  x,y = np.array(x),np.array(y)\n",
        "  return x,y,y/x"
      ],
      "metadata": {
        "id": "IBX9WCXwTgHG"
      },
      "execution_count": 117,
      "outputs": []
    },
    {
      "cell_type": "code",
      "source": [
        "b, d, p = gen_p(BE,0.3,0.07,4,13)\n",
        "print(b)\n",
        "print(d)\n",
        "print(100*np.round(p,4))\n",
        "plt.plot(p)\n",
        "plt.show()"
      ],
      "metadata": {
        "colab": {
          "base_uri": "https://localhost:8080/",
          "height": 517
        },
        "id": "8XnL9Bn9T9Vd",
        "outputId": "9f44a804-8362-4c59-b400-a892f3efa73d"
      },
      "execution_count": 121,
      "outputs": [
        {
          "output_type": "stream",
          "name": "stdout",
          "text": [
            "[ 99.  96. 100. 105.  93. 118. 110. 115. 111. 118. 108. 124.  93. 116.\n",
            " 162. 114. 137. 128. 116. 133. 112. 121.  94. 115.]\n",
            "[29 39 26 20 32 44 40 43 37 36 33 43 32 51 68 33 60 50 55 68 50 35 44 36]\n",
            "[29.29 40.62 26.   19.05 34.41 37.29 36.36 37.39 33.33 30.51 30.56 34.68\n",
            " 34.41 43.97 41.98 28.95 43.8  39.06 47.41 51.13 44.64 28.93 46.81 31.3 ]\n"
          ]
        },
        {
          "output_type": "display_data",
          "data": {
            "text/plain": [
              "<Figure size 640x480 with 1 Axes>"
            ],
            "image/png": "[encoded data removed]"
          },
          "metadata": {}
        }
      ]
    },
    {
      "cell_type": "code",
      "source": [
        "BP = np.stack((b,d),0)\n",
        "t = pd.DataFrame(BP,columns=m)\n",
        "print(t)\n",
        "t.to_excel('Bebidas P.xlsx')"
      ],
      "metadata": {
        "colab": {
          "base_uri": "https://localhost:8080/"
        },
        "id": "5u5g2EO0WHd5",
        "outputId": "608dba95-d68a-4b7f-b90e-d80ae1f19ada"
      },
      "execution_count": 87,
      "outputs": [
        {
          "output_type": "stream",
          "name": "stdout",
          "text": [
            "   Enero  Febrero  Marzo  Abril  Mayo  Junio  Julio  Agosto  Septiembre  \\\n",
            "0   99.0     96.0  100.0  105.0  93.0  118.0  110.0   115.0       111.0   \n",
            "1   33.0     31.0   31.0   35.0  15.0   38.0   40.0    34.0        25.0   \n",
            "\n",
            "   Octubre  ...  Marzo  Abril   Mayo  Junio  Julio  Agosto  Septiembre  \\\n",
            "0    118.0  ...  162.0  114.0  137.0  128.0  116.0   133.0       112.0   \n",
            "1     19.0  ...   53.0   16.0   50.0   14.0   56.0    52.0        27.0   \n",
            "\n",
            "   Octubre  Noviembre  Diciembre  \n",
            "0    121.0       94.0      115.0  \n",
            "1     54.0       28.0       44.0  \n",
            "\n",
            "[2 rows x 24 columns]\n"
          ]
        }
      ]
    },
    {
      "cell_type": "code",
      "source": [],
      "metadata": {
        "id": "1T4HJDAgWNNZ"
      },
      "execution_count": null,
      "outputs": []
    }
  ]
}